{
 "cells": [
  {
   "cell_type": "code",
   "execution_count": 1,
   "id": "42391718",
   "metadata": {},
   "outputs": [
    {
     "name": "stdout",
     "output_type": "stream",
     "text": [
      "No problem! here's the fill information about the Mercedes CLR GTR:\n",
      "\n",
      "The Mercedes CLR GTR is a remarkable racing car celebrated for its outstanding performance and sleek design. Powered by a potent 6.0 V12 engine, it delivers over 600 horsepower.\n",
      "\n",
      "Acceleration from 0 to 100km/h takes approximately 3.7 seconds, with a remarkable top speed surpassing 330km/h.\n"
     ]
    }
   ],
   "source": [
    "import nltk\n",
    "import matplotlib.pyplot as plt\n",
    "import seaborn as sns\n",
    "from fpdf import FPDF\n",
    "from fpdf.enums import XPos, YPos\n",
    "from nltk.tokenize import word_tokenize, sent_tokenize\n",
    "\n",
    "def read_text_file(file_path):\n",
    "    \"\"\"\n",
    "    Reads the content of a .txt file.\n",
    "    \n",
    "    :parameter file_path: Path to the text file.\n",
    "    :return: The content of the file as a string or None if an error occurs.\n",
    "    \"\"\"\n",
    "    try:\n",
    "        with open(file_path, 'r', encoding='utf-8') as file:\n",
    "            text = file.read()\n",
    "        return text\n",
    "    except FileNotFoundError:\n",
    "        print(\"File not found! Please provide a valid file path.\")\n",
    "        return None\n",
    "\n",
    "file_path = 'mercedesbenz.txt'\n",
    "content = read_text_file(file_path)\n",
    "\n",
    "if content is not None:\n",
    "    print(content)\n"
   ]
  },
  {
   "cell_type": "code",
   "execution_count": null,
   "id": "f159a205",
   "metadata": {},
   "outputs": [],
   "source": []
  }
 ],
 "metadata": {
  "kernelspec": {
   "display_name": "Python 3",
   "language": "python",
   "name": "python3"
  },
  "language_info": {
   "codemirror_mode": {
    "name": "ipython",
    "version": 3
   },
   "file_extension": ".py",
   "mimetype": "text/x-python",
   "name": "python",
   "nbconvert_exporter": "python",
   "pygments_lexer": "ipython3",
   "version": "3.8.8"
  }
 },
 "nbformat": 4,
 "nbformat_minor": 5
}
