{
 "cells": [
  {
   "cell_type": "code",
   "execution_count": null,
   "id": "40164aec",
   "metadata": {},
   "outputs": [],
   "source": [
    "import pytest\n",
    "from pytest import approx\n",
    "\n",
    "from Main_Code_Final import read_text_file\n",
    "\n",
    "def test_read_text_file():\n",
    "\n",
    "    # Test with an invalid file path\n",
    "    invalid_path = \"nonexistent_file.txt\"\n",
    "    result = read_text_file(invalid_path)  # Call the function you're testing\n",
    "    assert result is None, \"Expected None for a file that does not exist.\"\n",
    "    \n",
    "    # Test with a valid file path (make sure this file exists in the same directory)\n",
    "    valid_path = \"mercedesbenz.txt\"  # Replace with a valid .txt file\n",
    "    result = read_text_file(valid_path)\n",
    "    assert isinstance(result, str), \"Expected file content to be a string.\"\n",
    "    assert len(result) > 0, \"Expected non-empty file content.\""
   ]
  }
 ],
 "metadata": {
  "kernelspec": {
   "display_name": "Python 3",
   "language": "python",
   "name": "python3"
  },
  "language_info": {
   "codemirror_mode": {
    "name": "ipython",
    "version": 3
   },
   "file_extension": ".py",
   "mimetype": "text/x-python",
   "name": "python",
   "nbconvert_exporter": "python",
   "pygments_lexer": "ipython3",
   "version": "3.8.8"
  }
 },
 "nbformat": 4,
 "nbformat_minor": 5
}
