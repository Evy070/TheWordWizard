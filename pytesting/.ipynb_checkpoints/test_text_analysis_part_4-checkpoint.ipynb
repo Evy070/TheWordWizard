{
 "cells": [
  {
   "cell_type": "code",
   "execution_count": null,
   "id": "ea89f165",
   "metadata": {},
   "outputs": [],
   "source": [
    "from Main_Code_Final import generate_pdf_report\n",
    "\n",
    "import os\n",
    "\n",
    "def test_generate_pdf_report():\n",
    "    # Mock analysis and text\n",
    "    mock_analysis = {\n",
    "        'word_count': 9,\n",
    "        'sentence_count': 2,\n",
    "        'paragraph_count': 1,\n",
    "        'character_count': 36,\n",
    "        'character_count_no_spaces': 28,\n",
    "        'average_word_length': 28 / 9\n",
    "    }\n",
    "    \n",
    "    mock_text = \"This is a test. This is only a test.\"\n",
    "\n",
    "    # Generate the PDF report\n",
    "    generate_pdf_report(mock_analysis, mock_text)\n",
    "\n",
    "    # Check if the PDF report is created\n",
    "    assert os.path.exists(\"text_analysis_report.pdf\"), \"PDF report should be created.\"\n",
    "\n",
    "    # Optionally, clean up the generated PDF\n",
    "    os.remove(\"text_analysis_report.pdf\")"
   ]
  }
 ],
 "metadata": {
  "kernelspec": {
   "display_name": "Python 3",
   "language": "python",
   "name": "python3"
  },
  "language_info": {
   "codemirror_mode": {
    "name": "ipython",
    "version": 3
   },
   "file_extension": ".py",
   "mimetype": "text/x-python",
   "name": "python",
   "nbconvert_exporter": "python",
   "pygments_lexer": "ipython3",
   "version": "3.8.8"
  }
 },
 "nbformat": 4,
 "nbformat_minor": 5
}
