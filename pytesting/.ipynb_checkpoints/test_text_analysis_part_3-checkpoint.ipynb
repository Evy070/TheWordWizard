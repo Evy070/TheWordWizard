{
 "cells": [
  {
   "cell_type": "code",
   "execution_count": null,
   "id": "fc7f67ee",
   "metadata": {},
   "outputs": [],
   "source": [
    "from Main_Code_Final import generate_visualizations\n",
    "\n",
    "import os\n",
    "\n",
    "def test_generate_visualizations():\n",
    "    # Create a mock analysis result\n",
    "    mock_analysis = {\n",
    "        'word_count': 9,\n",
    "        'sentence_count': 2,\n",
    "        'paragraph_count': 1,\n",
    "        'character_count': 36,\n",
    "        'character_count_no_spaces': 28,\n",
    "        'average_word_length': 28 / 9\n",
    "    }\n",
    "    \n",
    "    mock_text = \"This is a test. This is only a test.\"\n",
    "\n",
    "    # Generate the visualizations\n",
    "    generate_visualizations(mock_analysis, mock_text)\n",
    "\n",
    "    # Check if the images are created\n",
    "    assert os.path.exists(\"counts_chart.png\"), \"Counts chart image should be created.\"\n",
    "    assert os.path.exists(\"character_chart.png\"), \"Character chart image should be created.\"\n",
    "    assert os.path.exists(\"word_length_histogram.png\"), \"Word length histogram image should be created.\"\n",
    "\n",
    "    # Optionally, you can clean up by removing the files after the test\n",
    "    os.remove(\"counts_chart.png\")\n",
    "    os.remove(\"character_chart.png\")\n",
    "    os.remove(\"word_length_histogram.png\")\n"
   ]
  }
 ],
 "metadata": {
  "kernelspec": {
   "display_name": "Python 3",
   "language": "python",
   "name": "python3"
  },
  "language_info": {
   "codemirror_mode": {
    "name": "ipython",
    "version": 3
   },
   "file_extension": ".py",
   "mimetype": "text/x-python",
   "name": "python",
   "nbconvert_exporter": "python",
   "pygments_lexer": "ipython3",
   "version": "3.8.8"
  }
 },
 "nbformat": 4,
 "nbformat_minor": 5
}
