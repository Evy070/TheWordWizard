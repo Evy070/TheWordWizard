{
 "cells": [
  {
   "cell_type": "code",
   "execution_count": null,
   "id": "857a1f5d",
   "metadata": {},
   "outputs": [],
   "source": [
    "import pytest\n",
    "from pytest import approx\n",
    "\n",
    "from Main_Code_Final import analyze_text\n",
    "\n",
    "def test_analyze_text():\n",
    "    # Mock text for analysis\n",
    "    mock_text = \"This is a test. This is only a test.\"\n",
    "\n",
    "    # Run analysis on the mock text\n",
    "    analysis = analyze_text(mock_text)\n",
    "\n",
    "    # Test word count\n",
    "    assert analysis['word_count'] == 9, f\"Expected 9 words, got {analysis['word_count']}\"\n",
    "\n",
    "    # Test sentence count\n",
    "    assert analysis['sentence_count'] == 2, f\"Expected 2 sentences, got {analysis['sentence_count']}\"\n",
    "\n",
    "    # Test paragraph count (since there's no \\n\\n, this should be 1)\n",
    "    assert analysis['paragraph_count'] == 1, f\"Expected 1 paragraph, got {analysis['paragraph_count']}\"\n",
    "\n",
    "    # Test character count (with and without spaces)\n",
    "    assert analysis['character_count'] == 36, f\"Expected 36 characters, got {analysis['character_count']}\"\n",
    "    assert analysis['character_count_no_spaces'] == 28, f\"Expected 28 characters without spaces, got {analysis['character_count_no_spaces']}\"\n",
    "\n",
    "# Test average word length\n",
    "    expected_avg_word_length = 28 / 9  # 28 characters without spaces, 9 words\n",
    "    assert analysis['average_word_length'] == approx(expected_avg_word_length, rel=1e-2), f\"Expected average word length {expected_avg_word_length}, got {analysis['average_word_length']}\"\n",
    "\n",
    "\n"
   ]
  }
 ],
 "metadata": {
  "kernelspec": {
   "display_name": "Python 3",
   "language": "python",
   "name": "python3"
  },
  "language_info": {
   "codemirror_mode": {
    "name": "ipython",
    "version": 3
   },
   "file_extension": ".py",
   "mimetype": "text/x-python",
   "name": "python",
   "nbconvert_exporter": "python",
   "pygments_lexer": "ipython3",
   "version": "3.8.8"
  }
 },
 "nbformat": 4,
 "nbformat_minor": 5
}
