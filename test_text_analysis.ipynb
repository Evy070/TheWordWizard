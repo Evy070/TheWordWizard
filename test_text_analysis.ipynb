{
 "cells": [
  {
   "cell_type": "code",
   "execution_count": 1,
   "id": "40164aec",
   "metadata": {},
   "outputs": [],
   "source": [
    "def test_read_text_file():\n",
    "    # Test with an invalid file path\n",
    "    invalid_path = \"nonexistent_file.txt\"\n",
    "    result = read_text_file(invalid_path)\n",
    "    assert result is None, \"Expected None for a file that does not exist.\"\n",
    "    \n",
    "    # Test with a valid file path (make sure this file exists in the same directory)\n",
    "    valid_path = \"mercedesbenz.txt\"  # or any valid .txt file you have\n",
    "    result = read_text_file(valid_path)\n",
    "    assert isinstance(result, str), \"Expected file content to be a string.\"\n",
    "    assert len(result) > 0, \"Expected non-empty file content.\"\n"
   ]
  },
  {
   "cell_type": "code",
   "execution_count": 2,
   "id": "599da416",
   "metadata": {},
   "outputs": [],
   "source": [
    "def test_analyze_text():\n",
    "    # Mock text for analysis\n",
    "    mock_text = \"This is a test. This is only a test.\"\n",
    "\n",
    "    # Run analysis on the mock text\n",
    "    analysis = analyze_text(mock_text)\n",
    "\n",
    "    # Test word count\n",
    "    assert analysis['word_count'] == 7, f\"Expected 7 words, got {analysis['word_count']}\"\n",
    "\n",
    "    # Test sentence count\n",
    "    assert analysis['sentence_count'] == 2, f\"Expected 2 sentences, got {analysis['sentence_count']}\"\n",
    "\n",
    "    # Test paragraph count (since there's no \\n\\n, this should be 1)\n",
    "    assert analysis['paragraph_count'] == 1, f\"Expected 1 paragraph, got {analysis['paragraph_count']}\"\n",
    "\n",
    "    # Test character count (with and without spaces)\n",
    "    assert analysis['character_count'] == 34, f\"Expected 34 characters, got {analysis['character_count']}\"\n",
    "    assert analysis['character_count_no_spaces'] == 29, f\"Expected 29 characters without spaces, got {analysis['character_count_no_spaces']}\"\n",
    "\n",
    "    # Test average word length\n",
    "    expected_avg_word_length = 29 / 7  # 29 characters without spaces, 7 words\n",
    "    assert analysis['average_word_length'] == pytest.approx(expected_avg_word_length, rel=1e-2), f\"Expected average word length {expected_avg_word_length}, got {analysis['average_word_length']}\"\n"
   ]
  },
  {
   "cell_type": "code",
   "execution_count": 3,
   "id": "d4d25864",
   "metadata": {},
   "outputs": [],
   "source": [
    "import os\n",
    "\n",
    "def test_generate_visualizations():\n",
    "    # Create a mock analysis result\n",
    "    mock_analysis = {\n",
    "        'word_count': 7,\n",
    "        'sentence_count': 2,\n",
    "        'paragraph_count': 1,\n",
    "        'character_count': 34,\n",
    "        'character_count_no_spaces': 29,\n",
    "        'average_word_length': 29 / 7\n",
    "    }\n",
    "    \n",
    "    mock_text = \"This is a test. This is only a test.\"\n",
    "\n",
    "    # Generate the visualizations\n",
    "    generate_visualizations(mock_analysis, mock_text)\n",
    "\n",
    "    # Check if the images are created\n",
    "    assert os.path.exists(\"counts_chart.png\"), \"Counts chart image should be created.\"\n",
    "    assert os.path.exists(\"character_chart.png\"), \"Character chart image should be created.\"\n",
    "    assert os.path.exists(\"word_length_histogram.png\"), \"Word length histogram image should be created.\"\n",
    "\n",
    "    # Optionally, you can clean up by removing the files after the test\n",
    "    os.remove(\"counts_chart.png\")\n",
    "    os.remove(\"character_chart.png\")\n",
    "    os.remove(\"word_length_histogram.png\")\n"
   ]
  },
  {
   "cell_type": "code",
   "execution_count": 4,
   "id": "beceb280",
   "metadata": {},
   "outputs": [],
   "source": [
    "def test_generate_pdf_report():\n",
    "    # Mock analysis and text\n",
    "    mock_analysis = {\n",
    "        'word_count': 7,\n",
    "        'sentence_count': 2,\n",
    "        'paragraph_count': 1,\n",
    "        'character_count': 34,\n",
    "        'character_count_no_spaces': 29,\n",
    "        'average_word_length': 29 / 7\n",
    "    }\n",
    "    \n",
    "    mock_text = \"This is a test. This is only a test.\"\n",
    "\n",
    "    # Generate the PDF report\n",
    "    generate_pdf_report(mock_analysis, mock_text)\n",
    "\n",
    "    # Check if the PDF report is created\n",
    "    assert os.path.exists(\"text_analysis_report.pdf\"), \"PDF report should be created.\"\n",
    "\n",
    "    # Optionally, clean up the generated PDF\n",
    "    os.remove(\"text_analysis_report.pdf\")\n"
   ]
  },
  {
   "cell_type": "code",
   "execution_count": null,
   "id": "ade69844",
   "metadata": {},
   "outputs": [],
   "source": []
  }
 ],
 "metadata": {
  "kernelspec": {
   "display_name": "Python 3",
   "language": "python",
   "name": "python3"
  },
  "language_info": {
   "codemirror_mode": {
    "name": "ipython",
    "version": 3
   },
   "file_extension": ".py",
   "mimetype": "text/x-python",
   "name": "python",
   "nbconvert_exporter": "python",
   "pygments_lexer": "ipython3",
   "version": "3.8.8"
  }
 },
 "nbformat": 4,
 "nbformat_minor": 5
}
