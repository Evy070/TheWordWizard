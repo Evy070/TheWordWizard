{
 "cells": [
  {
   "cell_type": "markdown",
   "id": "9b6f39ec",
   "metadata": {},
   "source": [
    "# Importing Libraries"
   ]
  },
  {
   "cell_type": "code",
   "execution_count": 1,
   "id": "ac34da43",
   "metadata": {},
   "outputs": [],
   "source": [
    "import nltk\n",
    "import matplotlib.pyplot as plt\n",
    "import seaborn as sns\n",
    "from fpdf import FPDF\n",
    "from nltk.tokenize import word_tokenize, sent_tokenize\n",
    "import re # ???"
   ]
  },
  {
   "cell_type": "markdown",
   "id": "cd2c30fd",
   "metadata": {},
   "source": [
    "## comments\n",
    "* I was not able to download spaCy for some reason so I will work my way around"
   ]
  },
  {
   "cell_type": "markdown",
   "id": "a0ffd835",
   "metadata": {},
   "source": [
    "# Input Handling"
   ]
  },
  {
   "cell_type": "code",
   "execution_count": 2,
   "id": "3dc51081",
   "metadata": {},
   "outputs": [
    {
     "name": "stdout",
     "output_type": "stream",
     "text": [
      "This is a test.\n"
     ]
    }
   ],
   "source": [
    "def read_text_file(file_path):\n",
    "    \"\"\"\n",
    "    Reads the content of a .txt file.\n",
    "    \n",
    "    :param file_path: Path to the text file.\n",
    "    :return: The content of the file as a string or None if an error occurs.\n",
    "    \"\"\"\n",
    "    try:\n",
    "        with open(file_path, 'r', encoding='utf-8') as file:\n",
    "            text = file.read()\n",
    "        return text\n",
    "    except FileNotFoundError:\n",
    "        print(\"File not found! Please provide a valid file path.\")\n",
    "        return None\n",
    "\n",
    "file_path = 'Thisisatest.txt'\n",
    "content = read_text_file(file_path)\n",
    "\n",
    "if content is not None:\n",
    "    print(content)\n"
   ]
  },
  {
   "cell_type": "markdown",
   "id": "e1f6b780",
   "metadata": {},
   "source": [
    "# Text Analysis"
   ]
  },
  {
   "cell_type": "code",
   "execution_count": 3,
   "id": "54d47b2c",
   "metadata": {},
   "outputs": [
    {
     "name": "stdout",
     "output_type": "stream",
     "text": [
      "This is a test.\n",
      "{'word_count': 4, 'sentence_count': 1, 'paragraph_count': 1, 'character_count': 15, 'character_count_no_spaces': 12, 'average_word_length': 3.0}\n"
     ]
    }
   ],
   "source": [
    "def analyze_text(text):\n",
    "    \"\"\"\n",
    "    Analyzes the given text and returns statistics.\n",
    "    \n",
    "    :param text: The text to analyze.\n",
    "    :return: A dictionary with word, sentence, paragraph, and character counts, and average word length.\n",
    "    \"\"\"\n",
    "    # Normalize whitespace and split the text by spaces\n",
    "    words = text.split()\n",
    "    sentences = sent_tokenize(text)\n",
    "    paragraphs = text.split(\"\\n\\n\")\n",
    "    \n",
    "    total_characters = len(text)\n",
    "    total_characters_no_spaces = len(text.replace(\" \", \"\"))\n",
    "    total_words = len([word for word in words if word])  # Count non-empty words\n",
    "    avg_word_length = total_characters_no_spaces / total_words if total_words > 0 else 0\n",
    "    \n",
    "    analysis = {\n",
    "        'word_count': total_words,\n",
    "        'sentence_count': len(sentences),\n",
    "        'paragraph_count': len(paragraphs),\n",
    "        'character_count': total_characters,\n",
    "        'character_count_no_spaces': total_characters_no_spaces,\n",
    "        'average_word_length': avg_word_length\n",
    "    }\n",
    "    \n",
    "    return analysis\n",
    "\n",
    "# Main execution\n",
    "file_path = 'Thisisatest.txt'\n",
    "content = read_text_file(file_path)\n",
    "\n",
    "if content is not None:\n",
    "    print(content)  # Print the content of the file\n",
    "    analysis_result = analyze_text(content)  # Analyze the content\n",
    "    print(analysis_result)  # Print the analysis result\n",
    "\n",
    "    "
   ]
  },
  {
   "cell_type": "markdown",
   "id": "2b5db29b",
   "metadata": {},
   "source": [
    "## comments\n",
    "* word count was 5, edited a lot so it is now 4 and thus correct\n",
    "* average word length is rounded off weirdly"
   ]
  },
  {
   "cell_type": "markdown",
   "id": "43f06c4a",
   "metadata": {},
   "source": [
    "# Visualization"
   ]
  },
  {
   "cell_type": "code",
   "execution_count": 4,
   "id": "ebf1b474",
   "metadata": {},
   "outputs": [
    {
     "data": {
      "image/png": "[encoded data removed]",
      "text/plain": [
       "<Figure size 576x432 with 1 Axes>"
      ]
     },
     "metadata": {
      "needs_background": "light"
     },
     "output_type": "display_data"
    },
    {
     "data": {
      "image/png": "[encoded data removed]",
      "text/plain": [
       "<Figure size 576x432 with 1 Axes>"
      ]
     },
     "metadata": {
      "needs_background": "light"
     },
     "output_type": "display_data"
    },
    {
     "data": {
      "image/png": "[encoded data removed]",
      "text/plain": [
       "<Figure size 576x432 with 1 Axes>"
      ]
     },
     "metadata": {
      "needs_background": "light"
     },
     "output_type": "display_data"
    }
   ],
   "source": [
    "def generate_visualizations(analysis_result, content):\n",
    "    \"\"\"\n",
    "    Generates and displays the required visualizations based on the analysis.\n",
    "    \n",
    "    :param analysis: The text analysis dictionary.\n",
    "    :param text: The original text for word length distribution.\n",
    "    \"\"\"\n",
    "    # Bar chart for word, sentence, and paragraph counts\n",
    "    plt.figure(figsize=(8, 6))\n",
    "    plt.bar(['Words', 'Sentences', 'Paragraphs'], \n",
    "            [analysis_result['word_count'], analysis_result['sentence_count'], analysis_result['paragraph_count']],\n",
    "            color=['blue', 'green', 'red'])\n",
    "    plt.title('Word, Sentence, and Paragraph Counts')\n",
    "    plt.savefig('counts_chart.png')\n",
    "    plt.show()\n",
    "    \n",
    "    # Horizontal bar chart for character counts\n",
    "    plt.figure(figsize=(8, 6))\n",
    "    plt.barh(['Characters (with spaces)', 'Characters (without spaces)'], \n",
    "             [analysis_result['character_count'], analysis_result['character_count_no_spaces']], \n",
    "             color=['purple', 'orange'])\n",
    "    plt.title('Character Counts')\n",
    "    plt.savefig('character_chart.png')\n",
    "    plt.show()\n",
    "    \n",
    "    # Histogram of word length distribution\n",
    "    word_lengths = [len(word) for word in word_tokenize(content)]\n",
    "    plt.figure(figsize=(8, 6))\n",
    "    sns.histplot(word_lengths, kde=False, bins=10, color='teal')\n",
    "    plt.title('Word Length Distribution')\n",
    "    plt.xlabel('Word Length')\n",
    "    plt.ylabel('Frequency')\n",
    "    plt.savefig('word_length_histogram.png')\n",
    "    plt.show()\n",
    "\n",
    "generate_visualizations(analysis_result, content)\n"
   ]
  },
  {
   "cell_type": "markdown",
   "id": "8aa38d11",
   "metadata": {},
   "source": [
    "## comments\n",
    "* remember to add plt.savefig('title.png') later\n",
    "* images are not saved for some reason"
   ]
  },
  {
   "cell_type": "markdown",
   "id": "417ef41c",
   "metadata": {},
   "source": [
    "# PDF Generation - not done yet!"
   ]
  },
  {
   "cell_type": "code",
   "execution_count": 5,
   "id": "ba41b433",
   "metadata": {},
   "outputs": [
    {
     "name": "stdout",
     "output_type": "stream",
     "text": [
      "PDF report generated: 'text_analysis_report.pdf'\n"
     ]
    },
    {
     "name": "stderr",
     "output_type": "stream",
     "text": [
      "<ipython-input-5-c2b888536e2c>:5: DeprecationWarning: Substituting font arial by core font helvetica - This is deprecated since v2.7.8, and will soon be removed\n",
      "  self.set_font('Arial', 'B', 12)\n",
      "<ipython-input-5-c2b888536e2c>:6: DeprecationWarning: The parameter \"ln\" is deprecated since v2.5.2. Instead of ln=1 use new_x=XPos.LMARGIN, new_y=YPos.NEXT.\n",
      "  self.cell(0, 10, 'Text Analysis Report', 0, 1, 'C')\n",
      "<ipython-input-5-c2b888536e2c>:9: DeprecationWarning: Substituting font arial by core font helvetica - This is deprecated since v2.7.8, and will soon be removed\n",
      "  self.set_font('Arial', '', 12)\n",
      "<ipython-input-5-c2b888536e2c>:11: DeprecationWarning: The parameter \"ln\" is deprecated since v2.5.2. Instead of ln=1 use new_x=XPos.LMARGIN, new_y=YPos.NEXT.\n",
      "  self.cell(0, 10, f\"Word Count: {analysis['word_count']}\", 0, 1)\n",
      "<ipython-input-5-c2b888536e2c>:12: DeprecationWarning: The parameter \"ln\" is deprecated since v2.5.2. Instead of ln=1 use new_x=XPos.LMARGIN, new_y=YPos.NEXT.\n",
      "  self.cell(0, 10, f\"Sentence Count: {analysis['sentence_count']}\", 0, 1)\n",
      "<ipython-input-5-c2b888536e2c>:13: DeprecationWarning: The parameter \"ln\" is deprecated since v2.5.2. Instead of ln=1 use new_x=XPos.LMARGIN, new_y=YPos.NEXT.\n",
      "  self.cell(0, 10, f\"Paragraph Count: {analysis['paragraph_count']}\", 0, 1)\n",
      "<ipython-input-5-c2b888536e2c>:14: DeprecationWarning: The parameter \"ln\" is deprecated since v2.5.2. Instead of ln=1 use new_x=XPos.LMARGIN, new_y=YPos.NEXT.\n",
      "  self.cell(0, 10, f\"Character Count (with spaces): {analysis['character_count_with_spaces']}\", 0, 1)\n",
      "<ipython-input-5-c2b888536e2c>:15: DeprecationWarning: The parameter \"ln\" is deprecated since v2.5.2. Instead of ln=1 use new_x=XPos.LMARGIN, new_y=YPos.NEXT.\n",
      "  self.cell(0, 10, f\"Character Count (without spaces): {analysis['character_count_without_spaces']}\", 0, 1)\n",
      "<ipython-input-5-c2b888536e2c>:16: DeprecationWarning: The parameter \"ln\" is deprecated since v2.5.2. Instead of ln=1 use new_x=XPos.LMARGIN, new_y=YPos.NEXT.\n",
      "  self.cell(0, 10, f\"Average Word Length: {analysis['average_word_length']:.2f}\", 0, 1)\n"
     ]
    }
   ],
   "source": [
    "from fpdf import FPDF\n",
    "\n",
    "class PDFReport(FPDF):\n",
    "    def header(self):\n",
    "        self.set_font('Arial', 'B', 12)\n",
    "        self.cell(0, 10, 'Text Analysis Report', 0, 1, 'C')\n",
    "\n",
    "    def add_analysis_summary(self, analysis):\n",
    "        self.set_font('Arial', '', 12)\n",
    "        self.ln(10)\n",
    "        self.cell(0, 10, f\"Word Count: {analysis['word_count']}\", 0, 1)\n",
    "        self.cell(0, 10, f\"Sentence Count: {analysis['sentence_count']}\", 0, 1)\n",
    "        self.cell(0, 10, f\"Paragraph Count: {analysis['paragraph_count']}\", 0, 1)\n",
    "        self.cell(0, 10, f\"Character Count (with spaces): {analysis['character_count_with_spaces']}\", 0, 1)\n",
    "        self.cell(0, 10, f\"Character Count (without spaces): {analysis['character_count_without_spaces']}\", 0, 1)\n",
    "        self.cell(0, 10, f\"Average Word Length: {analysis['average_word_length']:.2f}\", 0, 1)\n",
    "\n",
    "    def add_image(self, image_path):\n",
    "        self.ln(10)\n",
    "        self.image(image_path, x=10, w=190)\n",
    "\n",
    "def generate_pdf_report(analysis):\n",
    "    \"\"\"\n",
    "    Generates a PDF report of the text analysis.\n",
    "    \n",
    "    :param analysis: The text analysis dictionary.\n",
    "    \"\"\"\n",
    "    pdf = PDFReport()\n",
    "    pdf.add_page()\n",
    "\n",
    "    # Add summary\n",
    "    pdf.add_analysis_summary(analysis)\n",
    "\n",
    "    # Add images\n",
    "    try:\n",
    "        pdf.add_image('counts_chart.png')\n",
    "        pdf.add_image('character_chart.png')\n",
    "        pdf.add_image('word_length_histogram.png')\n",
    "    except FileNotFoundError as e:\n",
    "        print(f\"Warning: {e} - One or more image files not found.\")\n",
    "\n",
    "    # Save PDF\n",
    "    pdf.output('text_analysis_report.pdf')\n",
    "    print(\"PDF report generated: 'text_analysis_report.pdf'\")\n",
    "\n",
    "# Example analysis dictionary for testing\n",
    "if __name__ == '__main__':\n",
    "    example_analysis = {\n",
    "        'word_count': 120,\n",
    "        'sentence_count': 10,\n",
    "        'paragraph_count': 3,\n",
    "        'character_count_with_spaces': 600,\n",
    "        'character_count_without_spaces': 500,\n",
    "        'average_word_length': 4.17\n",
    "    }\n",
    "    \n",
    "    generate_pdf_report(example_analysis)\n"
   ]
  },
  {
   "cell_type": "markdown",
   "id": "85d5c3c8",
   "metadata": {},
   "source": [
    "## comments\n",
    "* images are not saved\n",
    "* images are therefore not in the pdf doc\n",
    "* all the analysis numbers are wrong"
   ]
  },
  {
   "cell_type": "markdown",
   "id": "5cabd69a",
   "metadata": {},
   "source": [
    "# Main Function - not done yet!"
   ]
  },
  {
   "cell_type": "code",
   "execution_count": 6,
   "id": "c9328cb8",
   "metadata": {},
   "outputs": [
    {
     "name": "stdout",
     "output_type": "stream",
     "text": [
      "File not found! Please provide a valid file path.\n"
     ]
    }
   ],
   "source": [
    "def main(file_path):\n",
    "    # Read text from file\n",
    "    text = read_text_file(file_path)\n",
    "    if not text:\n",
    "        return\n",
    "    \n",
    "    # Perform text analysis\n",
    "    analysis = analyze_text(text)\n",
    "    \n",
    "    # Generate visualizations\n",
    "    generate_visualizations(analysis)\n",
    "    \n",
    "    # Generate PDF report\n",
    "    generate_pdf_report(analysis)\n",
    "    \n",
    "    print(\"Text analysis completed! Report saved as 'text_analysis_report.pdf'.\")\n",
    "\n",
    "# Example Usage\n",
    "if __name__ == '__main__':\n",
    "    file_path = 'example.txt'  # Replace with your .txt file path\n",
    "    main(file_path)\n"
   ]
  },
  {
   "cell_type": "code",
   "execution_count": 9,
   "id": "9276751e",
   "metadata": {},
   "outputs": [
    {
     "name": "stdout",
     "output_type": "stream",
     "text": [
      "Evy\n"
     ]
    }
   ],
   "source": [
    "name = 'Evy'\n",
    "print(name)"
   ]
  },
  {
   "cell_type": "code",
   "execution_count": null,
   "id": "a47acf23",
   "metadata": {},
   "outputs": [],
   "source": []
  },
  {
   "cell_type": "code",
   "execution_count": null,
   "id": "cf5fa56b",
   "metadata": {},
   "outputs": [],
   "source": []
  },
  {
   "cell_type": "code",
   "execution_count": null,
   "id": "18a518c5",
   "metadata": {},
   "outputs": [],
   "source": []
  }
 ],
 "metadata": {
  "kernelspec": {
   "display_name": "Python 3",
   "language": "python",
   "name": "python3"
  },
  "language_info": {
   "codemirror_mode": {
    "name": "ipython",
    "version": 3
   },
   "file_extension": ".py",
   "mimetype": "text/x-python",
   "name": "python",
   "nbconvert_exporter": "python",
   "pygments_lexer": "ipython3",
   "version": "3.8.8"
  }
 },
 "nbformat": 4,
 "nbformat_minor": 5
}
