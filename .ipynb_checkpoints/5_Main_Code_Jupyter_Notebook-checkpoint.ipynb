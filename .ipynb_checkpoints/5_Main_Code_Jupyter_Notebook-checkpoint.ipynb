{
 "cells": [
  {
   "cell_type": "markdown",
   "id": "9b6f39ec",
   "metadata": {},
   "source": [
    "# Importing Libraries"
   ]
  },
  {
   "cell_type": "code",
   "execution_count": 1,
   "id": "ac34da43",
   "metadata": {},
   "outputs": [],
   "source": [
    "import nltk\n",
    "import matplotlib.pyplot as plt\n",
    "import seaborn as sns\n",
    "from fpdf import FPDF\n",
    "from fpdf.enums import XPos, YPos\n",
    "from nltk.tokenize import word_tokenize, sent_tokenize\n"
   ]
  },
  {
   "cell_type": "markdown",
   "id": "cd2c30fd",
   "metadata": {},
   "source": [
    "## Comments\n",
    "* I was not able to download spaCy for some reason so I will work my way around - fixed"
   ]
  },
  {
   "cell_type": "markdown",
   "id": "a0ffd835",
   "metadata": {},
   "source": [
    "# Input Handling"
   ]
  },
  {
   "cell_type": "code",
   "execution_count": 2,
   "id": "3dc51081",
   "metadata": {},
   "outputs": [
    {
     "name": "stdout",
     "output_type": "stream",
     "text": [
      "No problem! here's the fill information about the Mercedes CLR GTR:\n",
      "\n",
      "The Mercedes CLR GTR is a remarkable racing car celebrated for its outstanding performance and sleek design. Powered by a potent 6.0 V12 engine, it delivers over 600 horsepower.\n",
      "\n",
      "Acceleration from 0 to 100km/h takes approximately 3.7 seconds, with a remarkable top speed surpassing 330km/h.\n",
      "\n"
     ]
    }
   ],
   "source": [
    "def read_text_file(file_path):\n",
    "    \"\"\"\n",
    "    Reads the content of a .txt file.\n",
    "    \n",
    "    :parameter file_path: Path to the text file.\n",
    "    :return: The content of the file as a string or None if an error occurs.\n",
    "    \"\"\"\n",
    "    try:\n",
    "        with open(file_path, 'r', encoding='utf-8') as file:\n",
    "            text = file.read()\n",
    "        return text\n",
    "    except FileNotFoundError:\n",
    "        print(\"File not found! Please provide a valid file path.\")\n",
    "        return None\n",
    "\n",
    "file_path = '4_Input_Sample_Text_Mercedes_Benz.txt'\n",
    "content = read_text_file(file_path)\n",
    "\n",
    "if content is not None:\n",
    "    print(content)\n"
   ]
  },
  {
   "cell_type": "markdown",
   "id": "e1f6b780",
   "metadata": {},
   "source": [
    "# Text Analysis"
   ]
  },
  {
   "cell_type": "code",
   "execution_count": 3,
   "id": "54d47b2c",
   "metadata": {},
   "outputs": [
    {
     "name": "stdout",
     "output_type": "stream",
     "text": [
      "{'word_count': 56, 'sentence_count': 4, 'paragraph_count': 3, 'character_count': 360, 'character_count_no_spaces': 307, 'average_word_length': 5.482142857142857}\n"
     ]
    }
   ],
   "source": [
    "def analyze_text(text):\n",
    "    \"\"\"\n",
    "    Analyzes the given text and returns statistics.\n",
    "    \n",
    "    :parameter text: The text to analyze.\n",
    "    :return: A dictionary with word, sentence, paragraph, character counts with and without spaces and average word length.\n",
    "    \"\"\"\n",
    "    # Normalize whitespace and split the text by spaces\n",
    "    words = text.split()\n",
    "    sentences = sent_tokenize(text)\n",
    "    paragraphs = text.split(\"\\n\\n\")\n",
    "    \n",
    "    total_characters = len(text)\n",
    "    total_characters_no_spaces = len(text.replace(\" \", \"\"))\n",
    "    total_words = len([word for word in words if word])  # Count non-empty words\n",
    "    avg_word_length = total_characters_no_spaces / total_words if total_words > 0 else 0\n",
    "    \n",
    "    analysis_result = {\n",
    "        'word_count': total_words,\n",
    "        'sentence_count': len(sentences),\n",
    "        'paragraph_count': len(paragraphs),\n",
    "        'character_count': total_characters,\n",
    "        'character_count_no_spaces': total_characters_no_spaces,\n",
    "        'average_word_length': avg_word_length\n",
    "    }\n",
    "    \n",
    "    return analysis_result\n",
    "\n",
    "if content is not None:\n",
    "    analysis_result = analyze_text(content)  # Analyze the content\n",
    "    print(analysis_result)  # Print the analysis result\n",
    "\n",
    "    "
   ]
  },
  {
   "cell_type": "markdown",
   "id": "2b5db29b",
   "metadata": {},
   "source": [
    "## Comments\n",
    "* Word count was 5, edited a lot so it is now 4 and thus correct - fixed\n",
    "* Average word length is rounded off weirdly - fixed"
   ]
  },
  {
   "cell_type": "markdown",
   "id": "43f06c4a",
   "metadata": {},
   "source": [
    "# Visualization"
   ]
  },
  {
   "cell_type": "code",
   "execution_count": 4,
   "id": "ebf1b474",
   "metadata": {},
   "outputs": [
    {
     "data": {
      "image/png": "[encoded data removed]",
      "text/plain": [
       "<Figure size 576x432 with 1 Axes>"
      ]
     },
     "metadata": {
      "needs_background": "light"
     },
     "output_type": "display_data"
    },
    {
     "data": {
      "image/png": "[encoded data removed]",
      "text/plain": [
       "<Figure size 576x432 with 1 Axes>"
      ]
     },
     "metadata": {
      "needs_background": "light"
     },
     "output_type": "display_data"
    },
    {
     "data": {
      "image/png": "[encoded data removed]",
      "text/plain": [
       "<Figure size 576x432 with 1 Axes>"
      ]
     },
     "metadata": {
      "needs_background": "light"
     },
     "output_type": "display_data"
    }
   ],
   "source": [
    "def generate_visualizations(analysis_result, content):\n",
    "    \"\"\"\n",
    "    Generates and displays the required visualizations based on the analysis.\n",
    "    \n",
    "    :parameter analysis: The text analysis dictionary.\n",
    "    :parameter text: The original text for word length distribution.\n",
    "    \"\"\"\n",
    "    # Bar chart for word, sentence, and paragraph counts\n",
    "    plt.figure(figsize=(8, 6))\n",
    "    plt.bar(['Words', 'Sentences', 'Paragraphs'], \n",
    "            [analysis_result['word_count'], analysis_result['sentence_count'], analysis_result['paragraph_count']],\n",
    "            color=['blue', 'green', 'red'])\n",
    "    plt.title('Word, Sentence, and Paragraph Counts')\n",
    "    plt.savefig('7_output_counts_chart.png')\n",
    "    plt.show()\n",
    "\n",
    "    # Horizontal bar chart for character counts\n",
    "    plt.figure(figsize=(8, 6))\n",
    "    plt.barh(['With spaces', 'Without spaces'], \n",
    "         [analysis_result['character_count'], analysis_result['character_count_no_spaces']], \n",
    "         color=['purple', 'orange'])\n",
    "    plt.yticks(rotation=90, va='center') # Set y-axis labels vertically and centered\n",
    "    plt.title('Character Counts')\n",
    "    plt.savefig('8_output_character_chart.png')\n",
    "    plt.show()\n",
    "\n",
    "    # Histogram of word length distribution\n",
    "    word_lengths = [len(word) for word in word_tokenize(content)]\n",
    "    plt.figure(figsize=(8, 6))\n",
    "    sns.histplot(word_lengths, kde=False, bins=10, color='teal')\n",
    "    plt.title('Word Length Distribution')\n",
    "    plt.xlabel('Word Length')\n",
    "    plt.ylabel('Frequency')\n",
    "    plt.savefig('9_output_word_length_histogram.png')\n",
    "    plt.show()\n",
    "\n",
    "generate_visualizations(analysis_result, content)\n"
   ]
  },
  {
   "cell_type": "markdown",
   "id": "8aa38d11",
   "metadata": {},
   "source": [
    "## Comments\n",
    "* Remember to add plt.savefig('title.png') later - fixed\n",
    "* Images are not saved for some reason - fixed"
   ]
  },
  {
   "cell_type": "markdown",
   "id": "417ef41c",
   "metadata": {},
   "source": [
    "# PDF Generation"
   ]
  },
  {
   "cell_type": "code",
   "execution_count": 5,
   "id": "0025e0cf",
   "metadata": {},
   "outputs": [
    {
     "name": "stdout",
     "output_type": "stream",
     "text": [
      "PDF report generated: '10_output_analysis_report.pdf'\n"
     ]
    }
   ],
   "source": [
    "class PDFReport(FPDF):\n",
    "    def header(self):\n",
    "        self.set_font('Helvetica', 'B', 12)\n",
    "        self.cell(0, 10, 'Text Analysis Report', 0, new_x=XPos.LMARGIN, new_y=YPos.NEXT, align='C')\n",
    "        \n",
    "    def add_input_text(self, input_text):\n",
    "        \"\"\"\n",
    "        Adds the input text to the PDF.\n",
    "        \n",
    "        :parameter input_text: The text that was analyzed.\n",
    "        \"\"\"\n",
    "        self.set_font('Helvetica', '', 12)  # Regular font for the input text\n",
    "        self.ln(10)  # Space before the text\n",
    "        self.multi_cell(0, 10, f\"{input_text}\", align='L')  # Wrap text\n",
    "\n",
    "    def add_analysis_summary(self, analysis):\n",
    "        self.set_font('Helvetica', 'B', 12)\n",
    "        self.ln(10)\n",
    "        self.cell(0, 10, f\"Word Count: {analysis['word_count']}\", 0, new_x=XPos.LMARGIN, new_y=YPos.NEXT)\n",
    "        self.cell(0, 10, f\"Sentence Count: {analysis['sentence_count']}\", 0, new_x=XPos.LMARGIN, new_y=YPos.NEXT)\n",
    "        self.cell(0, 10, f\"Paragraph Count: {analysis['paragraph_count']}\", 0, new_x=XPos.LMARGIN, new_y=YPos.NEXT)\n",
    "        self.cell(0, 10, f\"Character Count (with spaces): {analysis['character_count']}\", 0, new_x=XPos.LMARGIN, new_y=YPos.NEXT)\n",
    "        self.cell(0, 10, f\"Character Count (without spaces): {analysis['character_count_no_spaces']}\", 0, new_x=XPos.LMARGIN, new_y=YPos.NEXT)\n",
    "        self.cell(0, 10, f\"Average Word Length: {analysis['average_word_length']:.2f}\", 0, new_x=XPos.LMARGIN, new_y=YPos.NEXT)\n",
    "\n",
    "    def add_image(self, image_path, img_width=160):\n",
    "        # Calculate x-position to center the image\n",
    "        page_width = self.w  # Total page width\n",
    "        x_position = (page_width - img_width) / 2  # Centered position\n",
    "        # Insert the image\n",
    "        self.ln(10)\n",
    "        self.image(image_path, x=x_position, w=img_width)\n",
    "\n",
    "def generate_pdf_report(analysis, input_text):\n",
    "    \"\"\"\n",
    "    Generates a PDF report of the text analysis.\n",
    "    \n",
    "    :parameter analysis: The text analysis dictionary.\n",
    "    :parameter input_text: The original text that was analyzed.\n",
    "    \"\"\"\n",
    "    pdf = PDFReport()\n",
    "    pdf.add_page()\n",
    "    \n",
    "    # Add input text at the beginning\n",
    "    pdf.add_input_text(input_text)\n",
    "\n",
    "    # Add summary\n",
    "    pdf.add_analysis_summary(analysis)\n",
    "\n",
    "    # Add images\n",
    "    try:\n",
    "        pdf.add_image('7_output_counts_chart.png')\n",
    "        pdf.add_image('8_output_character_chart.png')\n",
    "        pdf.add_image('9_output_word_length_histogram.png')\n",
    "    except FileNotFoundError as e:\n",
    "        print(f\"Warning: {e} - One or more image files not found.\")\n",
    "\n",
    "    # Save PDF\n",
    "    pdf.output('10_output_analysis_report.pdf')\n",
    "    print(\"PDF report generated: '10_output_analysis_report.pdf'\")\n",
    "\n",
    "generate_pdf_report(analysis_result, content)\n"
   ]
  },
  {
   "cell_type": "markdown",
   "id": "85d5c3c8",
   "metadata": {},
   "source": [
    "## Comments\n",
    "* Images are not saved - fixed\n",
    "* Images are therefore not in the pdf doc - fixed\n",
    "* All the analysis numbers are wrong - fixed\n",
    "* Fix all errors in output - fixed\n",
    "* Images in the pdf doc are cut off (the title on the y-axis of second image) - fixed\n",
    "* I want to add the input text itself also in the pdf report in the beginning - fixed"
   ]
  },
  {
   "cell_type": "markdown",
   "id": "d181e963",
   "metadata": {},
   "source": [
    "## Testing docstrings"
   ]
  },
  {
   "cell_type": "code",
   "execution_count": 6,
   "id": "18a518c5",
   "metadata": {},
   "outputs": [
    {
     "name": "stdout",
     "output_type": "stream",
     "text": [
      "Help on function read_text_file in module __main__:\n",
      "\n",
      "read_text_file(file_path)\n",
      "    Reads the content of a .txt file.\n",
      "    \n",
      "    :parameter file_path: Path to the text file.\n",
      "    :return: The content of the file as a string or None if an error occurs.\n",
      "\n"
     ]
    }
   ],
   "source": [
    "help(read_text_file)"
   ]
  },
  {
   "cell_type": "code",
   "execution_count": 7,
   "id": "564feaa3",
   "metadata": {},
   "outputs": [
    {
     "name": "stdout",
     "output_type": "stream",
     "text": [
      "Help on function analyze_text in module __main__:\n",
      "\n",
      "analyze_text(text)\n",
      "    Analyzes the given text and returns statistics.\n",
      "    \n",
      "    :parameter text: The text to analyze.\n",
      "    :return: A dictionary with word, sentence, paragraph, character counts with and without spaces and average word length.\n",
      "\n"
     ]
    }
   ],
   "source": [
    "help(analyze_text)"
   ]
  },
  {
   "cell_type": "code",
   "execution_count": 8,
   "id": "89ed58dd",
   "metadata": {},
   "outputs": [
    {
     "name": "stdout",
     "output_type": "stream",
     "text": [
      "Help on function generate_visualizations in module __main__:\n",
      "\n",
      "generate_visualizations(analysis_result, content)\n",
      "    Generates and displays the required visualizations based on the analysis.\n",
      "    \n",
      "    :parameter analysis: The text analysis dictionary.\n",
      "    :parameter text: The original text for word length distribution.\n",
      "\n"
     ]
    }
   ],
   "source": [
    "help(generate_visualizations)"
   ]
  },
  {
   "cell_type": "code",
   "execution_count": 9,
   "id": "f6bd2993",
   "metadata": {},
   "outputs": [
    {
     "name": "stdout",
     "output_type": "stream",
     "text": [
      "Help on function generate_pdf_report in module __main__:\n",
      "\n",
      "generate_pdf_report(analysis, input_text)\n",
      "    Generates a PDF report of the text analysis.\n",
      "    \n",
      "    :parameter analysis: The text analysis dictionary.\n",
      "    :parameter input_text: The original text that was analyzed.\n",
      "\n"
     ]
    }
   ],
   "source": [
    "help(generate_pdf_report)"
   ]
  }
 ],
 "metadata": {
  "kernelspec": {
   "display_name": "Python 3",
   "language": "python",
   "name": "python3"
  },
  "language_info": {
   "codemirror_mode": {
    "name": "ipython",
    "version": 3
   },
   "file_extension": ".py",
   "mimetype": "text/x-python",
   "name": "python",
   "nbconvert_exporter": "python",
   "pygments_lexer": "ipython3",
   "version": "3.8.8"
  }
 },
 "nbformat": 4,
 "nbformat_minor": 5
}
