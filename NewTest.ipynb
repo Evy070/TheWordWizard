{
 "cells": [
  {
   "cell_type": "code",
   "execution_count": null,
   "id": "f686db69",
   "metadata": {},
   "outputs": [],
   "source": [
    "import pytest\n",
    "from Main_Code_Final import read_text_file, analyze_text, generate_visualizations\n",
    "\n",
    "# Mock input for testing\n",
    "mock_text = \"\"\"This is a test. This is only a test.\"\"\"\n",
    "\n",
    "# Testing the read_text_file function\n",
    "def test_read_text_file():\n",
    "    assert read_text_file(\"invalid_path.txt\") is None, \"File path should be invalid.\"\n",
    "    # Assuming you have a valid file, e.g., 'mercedesbenz.txt'\n",
    "    assert isinstance(read_text_file(\"mercedesbenz.txt\"), str), \"The content should be a string.\"\n",
    "\n",
    "# Testing the analyze_text function\n",
    "def test_analyze_text():\n",
    "    analysis = analyze_text(mock_text)\n",
    "    assert analysis['word_count'] == 7, \"The word count should be 7.\"\n",
    "    assert analysis['sentence_count'] == 2, \"The sentence count should be 2.\"\n",
    "    assert analysis['paragraph_count'] == 1, \"The paragraph count should be 1.\"\n",
    "    assert analysis['character_count'] == 34, \"Character count should be 34 including spaces.\"\n",
    "    assert analysis['character_count_no_spaces'] == 29, \"Character count without spaces should be 29.\"\n",
    "    assert analysis['average_word_length'] == pytest.approx(4.14, rel=1e-2), \"Average word length should be approximately 4.14.\"\n",
    "\n",
    "# You can add more tests for the other functions (like PDF generation or visualizations) as needed.\n"
   ]
  },
  {
   "cell_type": "code",
   "execution_count": null,
   "id": "c436b432",
   "metadata": {},
   "outputs": [],
   "source": []
  }
 ],
 "metadata": {
  "kernelspec": {
   "display_name": "Python 3",
   "language": "python",
   "name": "python3"
  },
  "language_info": {
   "codemirror_mode": {
    "name": "ipython",
    "version": 3
   },
   "file_extension": ".py",
   "mimetype": "text/x-python",
   "name": "python",
   "nbconvert_exporter": "python",
   "pygments_lexer": "ipython3",
   "version": "3.8.8"
  }
 },
 "nbformat": 4,
 "nbformat_minor": 5
}
